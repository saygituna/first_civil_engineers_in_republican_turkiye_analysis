{
 "cells": [
  {
   "cell_type": "code",
   "execution_count": null,
   "id": "64b23715",
   "metadata": {},
   "outputs": [],
   "source": [
    "pip install regex\n",
    "pip install pandas\n",
    "pip install warnings\n",
    "pip install plotly\n",
    "pip install geopandas\n",
    "pip install matplotlib\n",
    "pip install seaborn"
   ]
  }
 ],
 "metadata": {
  "kernelspec": {
   "display_name": "Python 3 (ipykernel)",
   "language": "python",
   "name": "python3"
  },
  "language_info": {
   "codemirror_mode": {
    "name": "ipython",
    "version": 3
   },
   "file_extension": ".py",
   "mimetype": "text/x-python",
   "name": "python",
   "nbconvert_exporter": "python",
   "pygments_lexer": "ipython3",
   "version": "3.9.13"
  }
 },
 "nbformat": 4,
 "nbformat_minor": 5
}
